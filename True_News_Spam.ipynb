{
  "nbformat": 4,
  "nbformat_minor": 0,
  "metadata": {
    "colab": {
      "provenance": [],
      "authorship_tag": "ABX9TyNWNIOiDE2n+7lohLK90yMF",
      "include_colab_link": true
    },
    "kernelspec": {
      "name": "python3",
      "display_name": "Python 3"
    },
    "language_info": {
      "name": "python"
    }
  },
  "cells": [
    {
      "cell_type": "markdown",
      "metadata": {
        "id": "view-in-github",
        "colab_type": "text"
      },
      "source": [
        "<a href=\"https://colab.research.google.com/github/ShabnaIlmi/SpamSense-AI/blob/main/True_News_Spam.ipynb\" target=\"_parent\"><img src=\"https://colab.research.google.com/assets/colab-badge.svg\" alt=\"Open In Colab\"/></a>"
      ]
    },
    {
      "cell_type": "markdown",
      "source": [
        "# **Importing the Relevant Libaries**"
      ],
      "metadata": {
        "id": "CTzNL6OHpQ3j"
      }
    },
    {
      "cell_type": "code",
      "source": [
        "# Importing the necessary libraries\n",
        "import pandas as pd\n",
        "import numpy as np\n",
        "import matplotlib.pyplot as plt\n",
        "import seaborn as sns"
      ],
      "metadata": {
        "id": "9mMuM1hTupeL"
      },
      "execution_count": null,
      "outputs": []
    },
    {
      "cell_type": "markdown",
      "source": [
        "# **Mounting the Google Drive**"
      ],
      "metadata": {
        "id": "8mchK6-ipVFL"
      }
    },
    {
      "cell_type": "code",
      "source": [
        "# Mounting the google drive\n",
        "from google.colab import drive\n",
        "drive.mount('/content/drive')"
      ],
      "metadata": {
        "colab": {
          "base_uri": "https://localhost:8080/"
        },
        "id": "NfI4GN_SpX_e",
        "outputId": "fb7c6f7c-3e9a-47cd-eaee-e8685f5a2aa5"
      },
      "execution_count": null,
      "outputs": [
        {
          "output_type": "stream",
          "name": "stdout",
          "text": [
            "Drive already mounted at /content/drive; to attempt to forcibly remount, call drive.mount(\"/content/drive\", force_remount=True).\n"
          ]
        }
      ]
    },
    {
      "cell_type": "markdown",
      "source": [
        "# **Loading the Dataset**"
      ],
      "metadata": {
        "id": "BtIk5s3ipabN"
      }
    },
    {
      "cell_type": "code",
      "source": [
        "# Defining the file path\n",
        "file_path = \"/content/drive/MyDrive/Multi-Type-Spam-Detection/Dataset/True.csv\"\n",
        "\n",
        "# Loading the dataset with the correct delimiter (semicolon)\n",
        "data = pd.read_csv(file_path, encoding=\"utf-8\")"
      ],
      "metadata": {
        "id": "_e6ZuMIepeGN"
      },
      "execution_count": null,
      "outputs": []
    },
    {
      "cell_type": "code",
      "source": [
        "# Displaying the dataset head\n",
        "data.head()"
      ],
      "metadata": {
        "colab": {
          "base_uri": "https://localhost:8080/",
          "height": 206
        },
        "id": "qedCXH1BuLDi",
        "outputId": "ff2de9aa-b89f-45e0-cee7-cdb8c5c17ed2"
      },
      "execution_count": null,
      "outputs": [
        {
          "output_type": "execute_result",
          "data": {
            "text/plain": [
              "                                               title  \\\n",
              "0  As U.S. budget fight looms, Republicans flip t...   \n",
              "1  U.S. military to accept transgender recruits o...   \n",
              "2  Senior U.S. Republican senator: 'Let Mr. Muell...   \n",
              "3  FBI Russia probe helped by Australian diplomat...   \n",
              "4  Trump wants Postal Service to charge 'much mor...   \n",
              "\n",
              "                                                text       subject       date  \\\n",
              "0  WASHINGTON (Reuters) - The head of a conservat...  politicsNews  31-Dec-17   \n",
              "1  WASHINGTON (Reuters) - Transgender people will...  politicsNews  29-Dec-17   \n",
              "2  WASHINGTON (Reuters) - The special counsel inv...  politicsNews  31-Dec-17   \n",
              "3  WASHINGTON (Reuters) - Trump campaign adviser ...  politicsNews  30-Dec-17   \n",
              "4  SEATTLE/WASHINGTON (Reuters) - President Donal...  politicsNews  29-Dec-17   \n",
              "\n",
              "     status  \n",
              "0  Not Spam  \n",
              "1  Not Spam  \n",
              "2  Not Spam  \n",
              "3  Not Spam  \n",
              "4  Not Spam  "
            ],
            "text/html": [
              "\n",
              "  <div id=\"df-eab8e098-f4e8-47e3-9278-88fc2175791b\" class=\"colab-df-container\">\n",
              "    <div>\n",
              "<style scoped>\n",
              "    .dataframe tbody tr th:only-of-type {\n",
              "        vertical-align: middle;\n",
              "    }\n",
              "\n",
              "    .dataframe tbody tr th {\n",
              "        vertical-align: top;\n",
              "    }\n",
              "\n",
              "    .dataframe thead th {\n",
              "        text-align: right;\n",
              "    }\n",
              "</style>\n",
              "<table border=\"1\" class=\"dataframe\">\n",
              "  <thead>\n",
              "    <tr style=\"text-align: right;\">\n",
              "      <th></th>\n",
              "      <th>title</th>\n",
              "      <th>text</th>\n",
              "      <th>subject</th>\n",
              "      <th>date</th>\n",
              "      <th>status</th>\n",
              "    </tr>\n",
              "  </thead>\n",
              "  <tbody>\n",
              "    <tr>\n",
              "      <th>0</th>\n",
              "      <td>As U.S. budget fight looms, Republicans flip t...</td>\n",
              "      <td>WASHINGTON (Reuters) - The head of a conservat...</td>\n",
              "      <td>politicsNews</td>\n",
              "      <td>31-Dec-17</td>\n",
              "      <td>Not Spam</td>\n",
              "    </tr>\n",
              "    <tr>\n",
              "      <th>1</th>\n",
              "      <td>U.S. military to accept transgender recruits o...</td>\n",
              "      <td>WASHINGTON (Reuters) - Transgender people will...</td>\n",
              "      <td>politicsNews</td>\n",
              "      <td>29-Dec-17</td>\n",
              "      <td>Not Spam</td>\n",
              "    </tr>\n",
              "    <tr>\n",
              "      <th>2</th>\n",
              "      <td>Senior U.S. Republican senator: 'Let Mr. Muell...</td>\n",
              "      <td>WASHINGTON (Reuters) - The special counsel inv...</td>\n",
              "      <td>politicsNews</td>\n",
              "      <td>31-Dec-17</td>\n",
              "      <td>Not Spam</td>\n",
              "    </tr>\n",
              "    <tr>\n",
              "      <th>3</th>\n",
              "      <td>FBI Russia probe helped by Australian diplomat...</td>\n",
              "      <td>WASHINGTON (Reuters) - Trump campaign adviser ...</td>\n",
              "      <td>politicsNews</td>\n",
              "      <td>30-Dec-17</td>\n",
              "      <td>Not Spam</td>\n",
              "    </tr>\n",
              "    <tr>\n",
              "      <th>4</th>\n",
              "      <td>Trump wants Postal Service to charge 'much mor...</td>\n",
              "      <td>SEATTLE/WASHINGTON (Reuters) - President Donal...</td>\n",
              "      <td>politicsNews</td>\n",
              "      <td>29-Dec-17</td>\n",
              "      <td>Not Spam</td>\n",
              "    </tr>\n",
              "  </tbody>\n",
              "</table>\n",
              "</div>\n",
              "    <div class=\"colab-df-buttons\">\n",
              "\n",
              "  <div class=\"colab-df-container\">\n",
              "    <button class=\"colab-df-convert\" onclick=\"convertToInteractive('df-eab8e098-f4e8-47e3-9278-88fc2175791b')\"\n",
              "            title=\"Convert this dataframe to an interactive table.\"\n",
              "            style=\"display:none;\">\n",
              "\n",
              "  <svg xmlns=\"http://www.w3.org/2000/svg\" height=\"24px\" viewBox=\"0 -960 960 960\">\n",
              "    <path d=\"M120-120v-720h720v720H120Zm60-500h600v-160H180v160Zm220 220h160v-160H400v160Zm0 220h160v-160H400v160ZM180-400h160v-160H180v160Zm440 0h160v-160H620v160ZM180-180h160v-160H180v160Zm440 0h160v-160H620v160Z\"/>\n",
              "  </svg>\n",
              "    </button>\n",
              "\n",
              "  <style>\n",
              "    .colab-df-container {\n",
              "      display:flex;\n",
              "      gap: 12px;\n",
              "    }\n",
              "\n",
              "    .colab-df-convert {\n",
              "      background-color: #E8F0FE;\n",
              "      border: none;\n",
              "      border-radius: 50%;\n",
              "      cursor: pointer;\n",
              "      display: none;\n",
              "      fill: #1967D2;\n",
              "      height: 32px;\n",
              "      padding: 0 0 0 0;\n",
              "      width: 32px;\n",
              "    }\n",
              "\n",
              "    .colab-df-convert:hover {\n",
              "      background-color: #E2EBFA;\n",
              "      box-shadow: 0px 1px 2px rgba(60, 64, 67, 0.3), 0px 1px 3px 1px rgba(60, 64, 67, 0.15);\n",
              "      fill: #174EA6;\n",
              "    }\n",
              "\n",
              "    .colab-df-buttons div {\n",
              "      margin-bottom: 4px;\n",
              "    }\n",
              "\n",
              "    [theme=dark] .colab-df-convert {\n",
              "      background-color: #3B4455;\n",
              "      fill: #D2E3FC;\n",
              "    }\n",
              "\n",
              "    [theme=dark] .colab-df-convert:hover {\n",
              "      background-color: #434B5C;\n",
              "      box-shadow: 0px 1px 3px 1px rgba(0, 0, 0, 0.15);\n",
              "      filter: drop-shadow(0px 1px 2px rgba(0, 0, 0, 0.3));\n",
              "      fill: #FFFFFF;\n",
              "    }\n",
              "  </style>\n",
              "\n",
              "    <script>\n",
              "      const buttonEl =\n",
              "        document.querySelector('#df-eab8e098-f4e8-47e3-9278-88fc2175791b button.colab-df-convert');\n",
              "      buttonEl.style.display =\n",
              "        google.colab.kernel.accessAllowed ? 'block' : 'none';\n",
              "\n",
              "      async function convertToInteractive(key) {\n",
              "        const element = document.querySelector('#df-eab8e098-f4e8-47e3-9278-88fc2175791b');\n",
              "        const dataTable =\n",
              "          await google.colab.kernel.invokeFunction('convertToInteractive',\n",
              "                                                    [key], {});\n",
              "        if (!dataTable) return;\n",
              "\n",
              "        const docLinkHtml = 'Like what you see? Visit the ' +\n",
              "          '<a target=\"_blank\" href=https://colab.research.google.com/notebooks/data_table.ipynb>data table notebook</a>'\n",
              "          + ' to learn more about interactive tables.';\n",
              "        element.innerHTML = '';\n",
              "        dataTable['output_type'] = 'display_data';\n",
              "        await google.colab.output.renderOutput(dataTable, element);\n",
              "        const docLink = document.createElement('div');\n",
              "        docLink.innerHTML = docLinkHtml;\n",
              "        element.appendChild(docLink);\n",
              "      }\n",
              "    </script>\n",
              "  </div>\n",
              "\n",
              "\n",
              "<div id=\"df-dffc850e-d68c-4401-9aa9-f5375427d110\">\n",
              "  <button class=\"colab-df-quickchart\" onclick=\"quickchart('df-dffc850e-d68c-4401-9aa9-f5375427d110')\"\n",
              "            title=\"Suggest charts\"\n",
              "            style=\"display:none;\">\n",
              "\n",
              "<svg xmlns=\"http://www.w3.org/2000/svg\" height=\"24px\"viewBox=\"0 0 24 24\"\n",
              "     width=\"24px\">\n",
              "    <g>\n",
              "        <path d=\"M19 3H5c-1.1 0-2 .9-2 2v14c0 1.1.9 2 2 2h14c1.1 0 2-.9 2-2V5c0-1.1-.9-2-2-2zM9 17H7v-7h2v7zm4 0h-2V7h2v10zm4 0h-2v-4h2v4z\"/>\n",
              "    </g>\n",
              "</svg>\n",
              "  </button>\n",
              "\n",
              "<style>\n",
              "  .colab-df-quickchart {\n",
              "      --bg-color: #E8F0FE;\n",
              "      --fill-color: #1967D2;\n",
              "      --hover-bg-color: #E2EBFA;\n",
              "      --hover-fill-color: #174EA6;\n",
              "      --disabled-fill-color: #AAA;\n",
              "      --disabled-bg-color: #DDD;\n",
              "  }\n",
              "\n",
              "  [theme=dark] .colab-df-quickchart {\n",
              "      --bg-color: #3B4455;\n",
              "      --fill-color: #D2E3FC;\n",
              "      --hover-bg-color: #434B5C;\n",
              "      --hover-fill-color: #FFFFFF;\n",
              "      --disabled-bg-color: #3B4455;\n",
              "      --disabled-fill-color: #666;\n",
              "  }\n",
              "\n",
              "  .colab-df-quickchart {\n",
              "    background-color: var(--bg-color);\n",
              "    border: none;\n",
              "    border-radius: 50%;\n",
              "    cursor: pointer;\n",
              "    display: none;\n",
              "    fill: var(--fill-color);\n",
              "    height: 32px;\n",
              "    padding: 0;\n",
              "    width: 32px;\n",
              "  }\n",
              "\n",
              "  .colab-df-quickchart:hover {\n",
              "    background-color: var(--hover-bg-color);\n",
              "    box-shadow: 0 1px 2px rgba(60, 64, 67, 0.3), 0 1px 3px 1px rgba(60, 64, 67, 0.15);\n",
              "    fill: var(--button-hover-fill-color);\n",
              "  }\n",
              "\n",
              "  .colab-df-quickchart-complete:disabled,\n",
              "  .colab-df-quickchart-complete:disabled:hover {\n",
              "    background-color: var(--disabled-bg-color);\n",
              "    fill: var(--disabled-fill-color);\n",
              "    box-shadow: none;\n",
              "  }\n",
              "\n",
              "  .colab-df-spinner {\n",
              "    border: 2px solid var(--fill-color);\n",
              "    border-color: transparent;\n",
              "    border-bottom-color: var(--fill-color);\n",
              "    animation:\n",
              "      spin 1s steps(1) infinite;\n",
              "  }\n",
              "\n",
              "  @keyframes spin {\n",
              "    0% {\n",
              "      border-color: transparent;\n",
              "      border-bottom-color: var(--fill-color);\n",
              "      border-left-color: var(--fill-color);\n",
              "    }\n",
              "    20% {\n",
              "      border-color: transparent;\n",
              "      border-left-color: var(--fill-color);\n",
              "      border-top-color: var(--fill-color);\n",
              "    }\n",
              "    30% {\n",
              "      border-color: transparent;\n",
              "      border-left-color: var(--fill-color);\n",
              "      border-top-color: var(--fill-color);\n",
              "      border-right-color: var(--fill-color);\n",
              "    }\n",
              "    40% {\n",
              "      border-color: transparent;\n",
              "      border-right-color: var(--fill-color);\n",
              "      border-top-color: var(--fill-color);\n",
              "    }\n",
              "    60% {\n",
              "      border-color: transparent;\n",
              "      border-right-color: var(--fill-color);\n",
              "    }\n",
              "    80% {\n",
              "      border-color: transparent;\n",
              "      border-right-color: var(--fill-color);\n",
              "      border-bottom-color: var(--fill-color);\n",
              "    }\n",
              "    90% {\n",
              "      border-color: transparent;\n",
              "      border-bottom-color: var(--fill-color);\n",
              "    }\n",
              "  }\n",
              "</style>\n",
              "\n",
              "  <script>\n",
              "    async function quickchart(key) {\n",
              "      const quickchartButtonEl =\n",
              "        document.querySelector('#' + key + ' button');\n",
              "      quickchartButtonEl.disabled = true;  // To prevent multiple clicks.\n",
              "      quickchartButtonEl.classList.add('colab-df-spinner');\n",
              "      try {\n",
              "        const charts = await google.colab.kernel.invokeFunction(\n",
              "            'suggestCharts', [key], {});\n",
              "      } catch (error) {\n",
              "        console.error('Error during call to suggestCharts:', error);\n",
              "      }\n",
              "      quickchartButtonEl.classList.remove('colab-df-spinner');\n",
              "      quickchartButtonEl.classList.add('colab-df-quickchart-complete');\n",
              "    }\n",
              "    (() => {\n",
              "      let quickchartButtonEl =\n",
              "        document.querySelector('#df-dffc850e-d68c-4401-9aa9-f5375427d110 button');\n",
              "      quickchartButtonEl.style.display =\n",
              "        google.colab.kernel.accessAllowed ? 'block' : 'none';\n",
              "    })();\n",
              "  </script>\n",
              "</div>\n",
              "\n",
              "    </div>\n",
              "  </div>\n"
            ],
            "application/vnd.google.colaboratory.intrinsic+json": {
              "type": "dataframe",
              "variable_name": "data",
              "summary": "{\n  \"name\": \"data\",\n  \"rows\": 21417,\n  \"fields\": [\n    {\n      \"column\": \"title\",\n      \"properties\": {\n        \"dtype\": \"string\",\n        \"num_unique_values\": 20826,\n        \"samples\": [\n          \"German, Turkish foreign ministers meet after detainee released\",\n          \"Kremlin calls North Korea's latest missile launch another 'provocation'\",\n          \"Transgender soldiers, veterans shaken by Trump's ban on their service\"\n        ],\n        \"semantic_type\": \"\",\n        \"description\": \"\"\n      }\n    },\n    {\n      \"column\": \"text\",\n      \"properties\": {\n        \"dtype\": \"string\",\n        \"num_unique_values\": 21192,\n        \"samples\": [\n          \"WASHINGTON (Reuters) - A majority of the U.S. Senate on Tuesday backed a new round of disaster aid to help Puerto Rico and several states recover from damage from hurricanes and wildfires. The legislation would provide $36.5 billion in emergency relief as Puerto Rico in particular struggles to regain electricity and other basic services following destructive hurricanes. The House of Representatives approved the bill earlier this month. The Trump administration already has indicated it will seek another round of emergency relief from Congress. \",\n          \"BUDAPEST (Reuters) - About a thousand Hungarians protested on Friday against a crackdown on the main opposition party Jobbik which has been  threatened by a record political campaign fine that the party leader describes as a  death sentence  for democracy. Despite the gloomy rhetoric and Jobbik saying it was fighting for survival, support for the demonstration was well down on other similar rallies over the past year. Hungarians will vote for a new parliament in April and Prime Minister Viktor Orban s conservative, anti-migrant Fidesz party is far ahead in the polls, with Jobbik its nearest rival. Jobbik, once on the far right, has turned toward the center in a bid to attract more support and is now campaigning nationwide against Orban, depicting him as the leader of a criminal gang. Orban, rejecting the charges, says his financial standing is  an open book . Last week the state audit office (ASZ) ruled Jobbik had bought political posters far below market prices, breaching rules on political funding, then it slapped a 663 million forint ($2.5 million) penalty on the party. The protesters, waving Jobbik flags and posters deriding the ruling elite, gathered outside the headquarters of Orban s Fidesz party.  What we see unfolding is not an audit office investigation. It is not an official penalty. This is a death sentence with Jobbik s name on it. But in reality, it is a death sentence for Hungarian democracy,  Jobbiik leader Gabor Vona told the crowd. A government spokesman could not comment immediately on his remarks. ASZ chairman Laszlo Domokos is a former Fidesz lawmaker, whom Jobbik and other critics accuse of making decisions in favor of Orban. The audit office denies that. On Friday, ASZ again called on Jobbik to submit information that would challenge its findings, saying it acted fully within its rights throughout the probe. The ruling Fidesz party and the government have denied any involvement in the ASZ probe.  This case has nothing to do with the election campaign,  Orban aide Janos Lazar said on Thursday. For over a year Fidesz has targeted Jobbik, whose move to the center could upend the longstanding status quo of a dominant Fidesz with weaker opponents to its left and its right, said analyst Zoltan Novak at the Centre for Fair Political Analysis. Gyorgy Illes, a 67-year-old pensioner attending the rally, said he used to be a Socialist supporter but got disillusioned as the party struggled to overcome its internal divisions.  This ASZ probe is a clear sign that Orban is way past any remedy. It is a ruthless attack on everything we hold dear. Democracy, the rule of law, equality, you name it,  he said. \",\n          \"BEIJING/TAIPEI (Reuters) - China accused the United States on Thursday of interfering in its internal affairs and said it had lodged a complaint after U.S. President Donald Trump signed into law an act laying the groundwork for possible U.S. navy visits to self-ruled Taiwan. Tensions have risen in recent days after a senior Chinese diplomat threatened China would invade Taiwan if any U.S. warships made port visits to the island which China claims as its own territory. On Monday, Chinese jets carried out  island encirclement patrols  around Taiwan, with state media showing pictures of bombers with cruise missiles slung under their wings as they carried out the exercise. On Tuesday, Trump signed into law the National Defense Authorization Act for the 2018 fiscal year, which authorizes the possibility of mutual visits by navy vessels between Taiwan and the United States. Such visits would be the first since the United States ended formal diplomatic relations with Taiwan in 1979 and established ties with Beijing. Chinese Foreign Ministry spokesman Lu Kang said while the Taiwan sections of the law were not legally binding, they seriously violate the  One China  policy and  constitute an interference in China s internal affairs .   China is resolutely opposed to this, and we have already lodged stern representations with the U.S. government,  Lu told a daily news briefing. China is firmly opposed to any official exchanges, military contact, or arms sales between Taiwan and the United States, he added.  Proudly democratic Taiwan has become increasingly concerned with the ramped up Chinese military presence, that has included several rounds of Chinese air force drills around the island in recent months.  Taiwan is confident of its defenses and responded quickly to the Chinese air force drills this week, its government said, denouncing the rise in China s military deployments as irresponsible. Taiwan presidential spokesman Alex Huang, speaking to Taiwan media in comments reported late on Wednesday, said the defense ministry had kept a close watch on the patrols and responded immediately and properly. Taiwan  can ensure there are no concerns at all about national security, and people can rest assured , Huang said. Both sides of the narrow Taiwan Strait, which separates Taiwan from its giant neighbor, have a responsibility to protect peace and stability, he added.  Such a raised military posture that may impact upon and harm regional peace and stability and cross-strait ties does not give a feeling of responsibility, and the international community does not look favorably upon this,  Huang was quoted as saying. Relations have soured considerably since Tsai Ing-wen, who leads Taiwan s independence-leaning Democratic Progressive Party, won presidential elections last year. China suspects Tsai wants to declare the island s formal independence, a red line for Beijing. Tsai says she wants to maintain peace with China but will defend Taiwan s security. Taiwan is well equipped with mostly U.S. weapons but has been pressing for more advanced equipment to deal with what it sees as a rising threat from China. The United States is bound by law to provide the island with the means to defend itself. China has never renounced the use of force to bring Taiwan under its control. \"\n        ],\n        \"semantic_type\": \"\",\n        \"description\": \"\"\n      }\n    },\n    {\n      \"column\": \"subject\",\n      \"properties\": {\n        \"dtype\": \"category\",\n        \"num_unique_values\": 2,\n        \"samples\": [\n          \"worldnews\",\n          \"politicsNews\"\n        ],\n        \"semantic_type\": \"\",\n        \"description\": \"\"\n      }\n    },\n    {\n      \"column\": \"date\",\n      \"properties\": {\n        \"dtype\": \"object\",\n        \"num_unique_values\": 716,\n        \"samples\": [\n          \"2-Sep-17\",\n          \"2-Feb-17\"\n        ],\n        \"semantic_type\": \"\",\n        \"description\": \"\"\n      }\n    },\n    {\n      \"column\": \"status\",\n      \"properties\": {\n        \"dtype\": \"category\",\n        \"num_unique_values\": 1,\n        \"samples\": [\n          \"Not Spam\"\n        ],\n        \"semantic_type\": \"\",\n        \"description\": \"\"\n      }\n    }\n  ]\n}"
            }
          },
          "metadata": {},
          "execution_count": 185
        }
      ]
    },
    {
      "cell_type": "markdown",
      "source": [
        "# **Exploratatry Data Analysis - True**\n",
        "\n",
        "\n",
        "\n"
      ],
      "metadata": {
        "id": "BuSH0TvMuPVm"
      }
    },
    {
      "cell_type": "code",
      "source": [
        "# Displaying dataset information\n",
        "data.info()"
      ],
      "metadata": {
        "colab": {
          "base_uri": "https://localhost:8080/"
        },
        "id": "MSQA8L3suR5M",
        "outputId": "cea348f9-eacc-4fc1-e200-7dec72fe4981"
      },
      "execution_count": null,
      "outputs": [
        {
          "output_type": "stream",
          "name": "stdout",
          "text": [
            "<class 'pandas.core.frame.DataFrame'>\n",
            "RangeIndex: 21417 entries, 0 to 21416\n",
            "Data columns (total 5 columns):\n",
            " #   Column   Non-Null Count  Dtype \n",
            "---  ------   --------------  ----- \n",
            " 0   title    21417 non-null  object\n",
            " 1   text     21417 non-null  object\n",
            " 2   subject  21417 non-null  object\n",
            " 3   date     21417 non-null  object\n",
            " 4   status   21417 non-null  object\n",
            "dtypes: object(5)\n",
            "memory usage: 836.7+ KB\n"
          ]
        }
      ]
    },
    {
      "cell_type": "markdown",
      "source": [
        "# **Identifying Categorical and Numerical Columns**"
      ],
      "metadata": {
        "id": "gtDs855Eu7mA"
      }
    },
    {
      "cell_type": "code",
      "source": [
        "# Identifying Categorical and Numerical Columns\n",
        "categorical_columns = data.select_dtypes(include=['object']).columns\n",
        "numerical_columns = data.select_dtypes(include=['int64', 'float64']).columns"
      ],
      "metadata": {
        "id": "rczfU6L-u-cO"
      },
      "execution_count": null,
      "outputs": []
    },
    {
      "cell_type": "markdown",
      "source": [
        "# **Categorical Features**"
      ],
      "metadata": {
        "id": "XJL7VFR6vBnu"
      }
    },
    {
      "cell_type": "code",
      "source": [
        "# Displaying the Categorical Features\n",
        "print(\"\\nCategorical Features:\\n\")\n",
        "print(categorical_columns)"
      ],
      "metadata": {
        "colab": {
          "base_uri": "https://localhost:8080/"
        },
        "id": "FS96QkXJvEKd",
        "outputId": "cd2c192f-7cf1-4018-e661-c7554792727e"
      },
      "execution_count": null,
      "outputs": [
        {
          "output_type": "stream",
          "name": "stdout",
          "text": [
            "\n",
            "Categorical Features:\n",
            "\n",
            "Index(['title', 'text', 'subject', 'date', 'status'], dtype='object')\n"
          ]
        }
      ]
    },
    {
      "cell_type": "markdown",
      "source": [
        "**Unique Values and Their Counts Relevant to Each categorical Feature**"
      ],
      "metadata": {
        "id": "frE64_bsvIWT"
      }
    },
    {
      "cell_type": "code",
      "source": [
        "# Displaying the Unique Values and Their Counts Relevant to Each Categorical Column\n",
        "print(\"Unique values and their count relevant to each categorical feature:\\n\")\n",
        "for column in categorical_columns:\n",
        "    unique_values = data[column].unique()\n",
        "    value_counts = data[column].value_counts()\n",
        "    print(value_counts)\n",
        "    print(\" \")"
      ],
      "metadata": {
        "colab": {
          "base_uri": "https://localhost:8080/"
        },
        "id": "1VENzU69vKkQ",
        "outputId": "a73099b4-8b83-4325-8556-05cd6461ff50"
      },
      "execution_count": null,
      "outputs": [
        {
          "output_type": "stream",
          "name": "stdout",
          "text": [
            "Unique values and their count relevant to each categorical feature:\n",
            "\n",
            "title\n",
            "Factbox: Trump fills top jobs for his administration                                14\n",
            "Factbox: Contenders for senior jobs in Trump's administration                        8\n",
            "Highlights: The Trump presidency on April 13 at 9:30 P.M. EDT/0130 GMT on Friday     8\n",
            "Factbox: International reaction to arrest of Reuters reporters in Myanmar            6\n",
            "Highlights: The Trump presidency on April 21 at 6:12 p.m. EDT/2212 GMT               5\n",
            "                                                                                    ..\n",
            "Obama, on last trip to Europe, warns against nationalism, populism                   1\n",
            "A post-Trump SEC could shake up current policy                                       1\n",
            "U.S. panel urges probe on whether China weakening U.S. militarily                    1\n",
            "Trump team weighs 'infrastructure bank' to fund projects: Trump adviser              1\n",
            "Indonesia to buy $1.14 billion worth of Russian jets                                 1\n",
            "Name: count, Length: 20826, dtype: int64\n",
            " \n",
            "text\n",
            "(Reuters) - Highlights for U.S. President Donald Trump’s administration on Thursday: The United States drops a massive GBU-43 bomb, the largest non-nuclear bomb it has ever used in combat, in Afghanistan against a series of caves used by Islamic State militants, the Pentagon says. Trump says Pyongyang is a problem that “will be taken care of” amid speculation that North Korea is on the verge of a sixth nuclear test. Military force cannot resolve tension over North Korea, China warns, while an influential Chinese newspaper urges Pyongyang to halt its nuclear program in exchange for Beijing’s protection. The Trump administration is focusing its North Korea strategy on tougher economic sanctions, possibly including intercepting cargo ships and punishing Chinese banks doing business with Pyongyang, U.S. officials say. Trump says “things will work out fine” between the United States and Russia, a day after declaring U.S.-Russian relations may be at an all-time low. Trump signals he could be moving closer to the mainstream on monetary policy, saying he has not ruled out reappointment of Janet Yellen as Federal Reserve chair as he considers his choices for the U.S. central bank. [nL1N1HL14B] Trump signs a resolution that will allow U.S. states to restrict how federal funds for contraception and reproductive health are spent, a move cheered by anti-abortion campaigners. Democratic Senator Chris Van Hollen presses Deutsche Bank to release information about issues including Trump’s debt and any bank meetings with Trump administration officials, saying he has “great concern” about possible conflicts of interest. EXPORT-IMPORT BANK Trump’s office says he plans to revive the hobbled Export-Import Bank of the United States, a victory for American manufacturers such as Boeing Co and General Electric Co that have overseas customers that use the agency’s government-backed loans to purchase their products. Top Wall Street bankers say they are having positive discussions about financial regulation in Washington, and downplay the idea U.S. policymakers may force their institutions to split up. The United States is pushing for trade to be a key issue in top-level economic talks with Japan, a source says, an unwelcome development for Tokyo, which is seeking to fend off U.S. pressure to reduce the bilateral trade imbalance. Trump’s administration has focused on one group of illegal immigrants more than others: women with children, according to eight Department of Homeland Security officials interviewed by Reuters about agency planning.                                                                                                                                                                                                                                                                                                                                                                                                                                                                                                                                                                                                                                                                                                                                                                                                                                                                                                                                                                                                                                                                                                                                                                                                                                                                                                                                                                                                                                                                                                                                                                                                                                                                                                                                                                                                                                                                                                                                                                                                                                                                                                                                                                                                                                                                                                                                                                                                                                                                                                                                                                                                                                                                                                                                                                                                                                                                                                                                                                                                                                                                                                                                                                                                                                                                                                                                                                                                                                                                                                                                                                                                                                                                                                                                                         8\n",
            "(Reuters) - Highlights for U.S. President Donald Trump’s administration on Friday: Trump promises a big announcement about tax reform next week and orders an administration review of Obama-era tax rules written to discourage U.S. companies from relocating overseas to cut their tax bills. Trump tells the Treasury Department to examine two powers given to regulators to police large financial companies following the 2008 financial crisis. South Korea says it is on heightened alert ahead of another important anniversary in North Korea, with a large concentration of military hardware amassed on both sides of the border amid concerns about a new nuclear test by Pyongyang. Trump, striving to make good on a top campaign promise, is pushing fellow Republicans who control Congress to pass revamped healthcare legislation but the same intraparty squabbling that torpedoed it last month could do it again. Defense Secretary Jim Mattis says Syria has dispersed its warplanes in recent days and that it retains chemical weapons, an issue he says will have to be taken up diplomatically. The Department of Justice threatens to cut off funding to California as well as eight cities and counties across the United States, escalating a Trump administration crackdown on so-called “sanctuary cities” that do not cooperate with federal immigration authorities. The United States will not make an exception for American companies, including oil major Exxon Mobil Corp, seeking to drill in areas prohibited by U.S. sanctions on Russia, Treasury Secretary Steven Mnuchin says.  Trump and his fellow Republicans who control Congress face their first major budget test next week, with the threat of a government shutdown potentially hinging on his proposed Mexican border wall as well as Obamacare funding. The House of Representatives Intelligence Committee says it has invited FBI, National Security Agency and Obama administration officials to testify as it restarts its investigation into alleged Russian meddling in the 2016 U.S. election. U.N. Secretary-General Antonio Guterres meets with Trump at the White House for the first time since both took office earlier this year and amid a U.S. push to cut funding to the world body and its agencies. The United States has offered to help fund Mexico’s efforts to eradicate opium poppies, a U.S. official says, as Mexican heroin output increased again last year.                                                                                                                                                                                                                                                                                                                                                                                                                                                                                                                                                                                                                                                                                                                                                                                                                                                                                                                                                                                                                                                                                                                                                                                                                                                                                                                                                                                                                                                                                                                                                                                                                                                                                                                                                                                                                                                                                                                                                                                                                                                                                                                                                                                                                                                                                                                                                                                                                                                                                                                                                                                                                                                                                                                                                                                                                                                                                                                                                                                                                                                                                                                                                                                                                                                                                                                                                                                                                                                                                                                                                                                                                                                                                                                                                                                                                                                                                                                       5\n",
            "(Reuters) - Highlights of the day for U.S. President Donald Trump’s administration on Friday: Trump backs a decision by his former national security adviser, Michael Flynn, to seek immunity in congressional investigations of possible ties between his campaign and Russia, but there is no immediate sign the request will be granted.  The Trump administration slams China on a range of trade issues from its chronic industrial overcapacity to forced technology transfers and longstanding bans on U.S. beef and electronic payment services. Beijing seeks to play down tensions with the United States and put on a positive face ahead of President Xi Jinping’s first meeting with Trump next week. Senate Democrats step closer to having enough votes to block a confirmation vote on Trump’s Supreme Court nominee with three more Democratic senators coming out against Neil Gorsuch for the lifetime job as a justice. Trump seeks to push his plan for fair trade and more manufacturing jobs back to the top of his agenda by ordering a study into the causes of U.S. trade deficits and a clampdown on import duty evasion. Trump has neither a clear White House tax plan nor adequate staff yet to see through a planned tax overhaul, according to interviews with people in the administration, in Congress and among U.S. tax experts. Democrats are trying to counter Trump’s boldest move yet to defang the U.S. consumer financial watchdog, with 40 current and former lawmakers defending the agency in court. The U.S. Environmental Protection Agency’s scientific integrity watchdog is reviewing whether EPA chief Scott Pruitt violated the agency’s policies when he said in a television interview he does not believe carbon dioxide is driving global climate change, according to an email seen by Reuters. Trump will seek to rebuild the U.S. relationship with Egypt at a meeting on Monday with Egyptian President Abdel Fattah al-Sisi focused on security issues and military aid, a senior White House official says. Trump will host Jordan’s King Abdullah at the White House next week to discuss the fight against Islamic State militants, the Syria crisis and advancing peace between Israelis and Palestinians, the White House says. A U.S. judge approves a $25 million settlement to resolve a class action lawsuit that claimed fraud against Trump and his Trump University real estate seminars.                                                                                                                                                                                                                                                                                                                                                                                                                                                                                                                                                                                                                                                                                                                                                                                                                                                                                                                                                                                                                                                                                                                                                                                                                                                                                                                                                                                                                                                                                                                                                                                                                                                                                                                                                                                                                                                                                                                                                                                                                                                                                                                                                                                                                                                                                                                                                                                                                                                                                                                                                                                                                                                                                                                                                                                                                                                                                                                                                                                                                                                                                                                                                                                                                                                                                                                                                                                                                                                                                                                                                                                                                                                                                                                                                                                                                                                                                                                                                     5\n",
            "(Reuters) - Highlights for U.S. President Donald Trump’s administration on Wednesday: Trump proposes slashing tax rates for businesses and on overseas corporate profits returned to the country in a plan greeted as an opening gambit by his fellow Republicans in Congress. Trump’s plan could shift the U.S. economy into higher gear but could have one effect the White House would not welcome — interest rates ratcheted higher than expected by a wary central bank. The Trump tax cut will generate growth but not nearly enough to replace trillions of dollars in lost revenues, while rising deficits could even take back some of the economic gains, fiscal experts say. Congress inches toward a deal to fund the government through September but is preparing to possibly extend a midnight Friday deadline in order to wrap up negotiations and avoid an imminent government shutdown. Trump is considering issuing an executive order to pull the United States from the North American Free Trade Agreement, an administration official says, a move that could unravel one of the world’s biggest trading blocs. Trump and Canadian Prime Minister Justin Trudeau discuss bilateral trade in their second conversation in as many days  amid strains over softwood lumber and dairy. The Trump administration says it aims to push North Korea into dismantling its nuclear and missile programs through tougher international sanctions and diplomatic pressure, and remains open to negotiations to bring that about. Trump gives the military the authority to reset a confusing system of troop limits in Iraq and Syria that critics say allows the White House to micro-manage battlefield decisions and ultimately obscures the real number of U.S. forces. Trump signs an executive order to allow national monument designations to be rescinded or reduce the size of sites as the administration pushes to open more federal land to drilling, mining and other development. Trump orders Education Secretary Betsy DeVos to review the government role in school policy, which supporters cheer as a step in creating more local control in education and critics worry it could lead to lower quality schools in poorer neighborhoods. Israel’s intelligence minister says his country wants an “understanding” with the Trump administration that Iran must not be allowed to establish a permanent military foothold in Syria.                                                                                                                                                                                                                                                                                                                                                                                                                                                                                                                                                                                                                                                                                                                                                                                                                                                                                                                                                                                                                                                                                                                                                                                                                                                                                                                                                                                                                                                                                                                                                                                                                                                                                                                                                                                                                                                                                                                                                                                                                                                                                                                                                                                                                                                                                                                                                                                                                                                                                                                                                                                                                                                                                                                                                                                                                                                                                                                                                                                                                                                                                                                                                                                                                                                                                                                                                                                                                                                                                                                                                                                                                                                                                                                                                                                                                                                                                                                                                    3\n",
            "BANGKOK (Reuters) - Thailand on Wednesday marked the start of a lavish, five-day funeral for King Bhumibol Adulyadej with a Buddhist religious ceremony attended by senior members of its royal family. King Bhumibol, who died last year aged 88, will be cremated on Thursday on a royal pyre within a cremation complex of gold pavilions in front of Bangkok s Grand Palace, in a ceremony that is expected to draw about 250,000 mourners. Thailand has observed a year of mourning for King Bhumibol, who was regarded as a pillar of stability during a reign of seven decades that witnessed political upheaval and rapid development in the Southeast Asian nation.   It s overwhelming,  said one mourner, Aporn Wongdee, 60,  who hails from the southern province of Nakhon Si Thammarat.  I ve been here for two days already and I want to see our father to heaven.       A sum of $90 million has been set aside for the funeral, the likes of which has never been seen in Thailand, officials involved in the funeral preparations said. King Maha Vajiralongkorn, known as Rama X, who inherited the throne in December on his father s death, arrived at the Grand Palace by car on Wednesday as soldiers dressed in red uniforms and black hats stood to attention.  He was flanked by his two daughters. Live television images from inside the palace showed the king lighting candles in front of his father s coffin and a symbolic royal urn. The Buddhist funeral ceremony, mixed with Hindu rituals, was attended by 119 Buddhist monks who chanted prayers in the ancient Pali language. Queues of black-clad mourners, many carrying portraits of the king, snaked around parts of Bangkok s old town, waiting to enter the cremation area. By mid-afternoon, 25,000 mourners had gathered around the cremation site, city police said. In what is expected to be an emotionally-charged morning, King Bhumibol s body will be moved on Thursday from the Grand Palace to a crematorium in a public square in front, where thousands of people have already pitched tents to ensure places. On Thursday, three processions will make their way from the palace to the cremation site - a series of specially-erected Thai pavilions that took nearly a year to build. Some Thais have folded flowers of sandalwood paper to be used in the cremation, in the belief that their fragrance guides the soul of the departed to heaven. The cremation day has been declared a national holiday, when banks will be closed and major shopping centers will be shut from 3 p.m.                                                                                                                                                                                                                                                                                                                                                                                                                                                                                                                                                                                                                                                                                                                                                                                                                                                                                                                                                                                                                                                                                                                                                                                                                                                                                                                                                                                                                                                                                                                                                                                                                                                                                                                                                                                                                                                                                                                                                                                                                                                                                                                                                                                                                                                                                                                                                                                                                                                                                                                                                                                                                                                                                                                                                                                                                                                                                                                                                                                                                                                                                                                                                                                                                                                                                                                                                                                                                                                                                                                                                                                                                                                                                                                                                                                                                2\n",
            "                                                                                                                                                                                                                                                                                                                                                                                                                                                                                                                                                                                                                                                                                                                                                                                                                                                                                                                                                                                                                                                                                                                                                                                                                                                                                                                                                                                                                                                                                                                                                                                                                                                                                                                                                                                                                                                                                                                                                                                                                                                                                                                                                                                                                                                                                                                                                                                                                                                                                                                                                                                                                                                                                                                                                                                                                                                                                                                                                                                                                                                                                                                                                                                                                                                                                                                                                                                                                                                                                                                                                                                                                                                                                                                                                                                                                                                                                                                                                                                                                                                                                                                                                                                                                                                                                                                                                                                                                                                                                                                                                                                                                                                                                                                                                                                                                                                                                                                                                                                                                                                                                                                                                                                                                                                                                                                                                                                                                                                                                                                                                                                                                                                                                                                                                                                                                                                                                                                                                                                                                                                                                                                                                                                                                                                                                                                                                                                                                      ..\n",
            "WASHINGTON (Reuters) - President-elect Donald Trump’s shortlist of candidates to lead the U.S. Department of Interior has employees and environmental advocates fearful of a shift in the agency’s direction, from one focused on preserving public lands to one that would open them up to more drilling and mining. The outcome will have implications for industry access to millions of acres of national parks, reserves and tribal territories stretching from the Arctic to the Gulf of Mexico and the viability of President Barack Obama’s efforts to keep the United States in line with international agreements to reduce the impacts of climate change. Republican Trump, a New York real estate businessman who has never previously held public office, has leaned toward right-wing loyalists for the Cabinet since winning the Nov. 8 election. He is considering oil drilling advocates like Oklahoma Governor Mary Fallin, Alaska’s former governor Sarah Palin and Lucas Oil co-founder Forrest Lucas to run the Interior Department, media reports and Reuters sources said. Other contenders are several politicians from Western states who favor easier development of public lands. Any of those picks could trigger battles with environmental groups and cause internal strife at an agency where many workers see themselves as land stewards after nearly eight years of conservation-minded policies under Democrat Obama. “Public lands have been set aside to ‘preserve and protect’ cultural and scientific resources for future generations,” said Geoff Goins, a National Park Service ranger at the Bandelier National Monument in New Mexico, adding that with Trump coming in, “people are concerned about their jobs.”   Other Interior Department employees interviewed by Reuters said they were worried the agency’s environmental mandate would be weakened under Trump, and green advocates said they were bracing to resist those changes. “Climate change is a major focus of conservation concern for national parks,” said one National Park Service employee in the Northwest who asked not to be identified. “If (Trump’s administration) gets in the way of scientists...we are all in deep trouble.” During the election campaign, Trump tweeted that “the concept of global warming was created by and for the Chinese in order to make U.S. manufacturing non-competitive” - a view that is at odds with most but a few scientists who study the impacts of rising global temperatures and extreme weather.        Maureen Finnerty, chair of the Coalition to Protect America’s National Parks, an organization of more than 1,200 current and former National Parks employees, said it was ready to launch a public relations campaign against Trump if he pursues an anti-environmental agenda. “We will be vigilant and hope for the best,” she said. The Interior Department employs more than 70,000 people across the United States and oversees over 20 percent of federal land. Under Obama, the Interior Department played a big role in efforts to curb the effects of climate change by limiting fossil fuel development in some areas. Outgoing Interior Secretary Sally Jewell banned coal mining on public lands, canceled leases for drilling in the Arctic and Atlantic coasts, expanded wildlife protection and cracked down on industry methane emissions. The Obama administration planned on using forest restoration on federal lands as a way to help the United States meet its long-term goals under the 2015 Paris agreement within the United Nations Framework Convention on Climate Change. The agreement outlines how countries will deal with lowering greenhouse gas emissions starting in 2020.  Trump has given mixed messages on his plans for Interior. In an interview with Field and Stream magazine in January, Trump said: “I want to keep the lands great... We have to be great stewards of this land.” But he has advocated strongly for boosting energy development on federal lands and has criticized Obama’s use of environmental regulation to check oil and gas development. He picked renowned climate change skeptic Myron Ebell to run his transition at the Environmental Protection Agency. U.S. Representative Kevin Cramer of North Dakota said Trump could consider hiring as his energy secretary Harold Hamm, an oil and gas driller and a pioneer of developing shale oil resources. One potential Interior Department head is Oklahoma Governor Fallin, who met with Trump on Monday. She has been an ardent supporter of Oklahoma’s drilling industry and has blocked attempts to ban hydraulic fracturing, or fracking, a controversial drilling technology. Fallin’s spokesman confirmed she is being considered for the post, but said there has been “no offer given.” Also on the shortlist is Palin, who made famous the motto “Drill, Baby, Drill” when she was the vice presidential running-mate to Republican John McCain in 2008, and former Arizona Governor Jan Brewer, a Trump supporter without experience in public lands policy. Governor Butch Otter of Idaho, venture capitalist Robert Grady and U.S. Representatives Cynthia Lummis and Rob Bishop of Wyoming and Utah are also potential candidates for the job. All declined comment. (Refiles to correct typographical error National Park Service instead of National Parks Service.)                                                                                                                                                                                                                                                                                                                                                                                                                                                                                                                                                                                                                                                                                                                                                                                                                                                                                                                                     1\n",
            "BEDMINSTER, N.J. (Reuters) - President-elect Donald Trump on Sunday assessed several more contenders for top U.S. posts including Chris Christie and Rudy Giuliani, as blunt-spoken retired Marine Corps General James Mattis emerged as a leading candidate for defense secretary. Trump held meetings at his golf resort in Bedminster, New Jersey, with candidates for senior administration jobs after he takes office on Jan. 20. On Saturday, he conferred with Mattis and Mitt Romney, formerly a fierce Trump critic now under consideration for secretary of state. Summing up two days of talks as he said goodbye to retired U.S. Marines Corps General John Kelly on Sunday evening, Trump said he had made decisions on a couple of appointments. “We really had some great meetings, and you’ll be hearing about them soon.” Trump transition spokesman Sean Spicer said no decisions would be announced on Sunday night. Trump discussed the treasury secretary job with Jon Gray, a board member of the Blackstone Group, two sources familiar with their meeting said. A Trump transition team statement said their discussion included the U.S. economy, global capital markets and the world financial situation, as well as tax reform and long-term debt. The last person Trump escorted out of the clubhouse was Giuliani, the former New York mayor. Trump said earlier that Giuliani was a candidate for secretary of state “and other things.” The Trump team statement said Trump and Giuliani discussed “administration priorities” as well as “restoring America’s prominence in the world, ongoing national security issues and threats at various hotspots on a global basis.” Christie, the Republican governor of New Jersey, advised Trump during the presidential campaign but was dismissed as the head of his transition team. Asked by reporters before the meeting whether there was a place for Christie in his administration, Trump sidestepped the question but called him “a very talented man, great guy.” Trump met with billionaire investor Wilbur Ross, who he said was under consideration for commerce secretary. Asked whether he wanted the job, Ross told reporters: “Well, time will tell.”  Trump also received Jonathan Gray, the global head of real estate at the Blackstone Group, who is being considered for Treasury secretary, according to a person briefed on the matter. The president-elect has already tapped three senior leaders of his national security and law enforcement teams, choosing U.S. Senator Jeff Sessions for attorney general, U.S. Representative Mike Pompeo as CIA director, and retired Lieutenant General Michael Flynn as national security adviser. The selections so far suggest that Trump, true to his campaign promises, intends to steer national security and foreign policy in a sharply different direction from that of Democratic President Barack Obama, whose record Trump harshly criticized during his campaign. Obama campaigned extensively for Democratic presidential nominee Hillary Clinton before the Nov. 8 election and warned during the campaign that Trump lacked the temperament and qualifications to be president. In Peru, as he wrapped up his last foreign trip, one that was overshadowed by Trump’s surprise election, Obama encouraged Democrats on Sunday to work with the new administration but said he would weigh in as a citizen if the Trump administration challenged values he holds dear.  In another sign of Trump’s novel approach to politics, the New York businessman who has never held public office said he planned to live in the White House but that his wife, Melania, and their 10-year-old son, Barron, would not move in immediately. He said they would move from New York to the White House “very soon, right after he finishes school.” While Trump received lawmakers, politicians and business leaders behind closed doors over the weekend, he gave some hints about his thinking and possible Cabinet choices on Twitter.  On Sunday, he tweeted that “General James ‘Mad Dog’ Mattis, who is being considered for Secretary of Defense, was very impressive yesterday. A true General’s General!” From 2010 to 2013, Mattis headed the U.S. military’s Central Command, which oversees operations stretching from the Horn of Africa through the Middle East and into Central Asia including Afghanistan and Pakistan. During that time, he was at odds with the Obama administration on the need to prepare for potential threats from Iran and about resources for Afghanistan. Mattis, 66, served as an American commander in the wars in Iraq and Afghanistan and was known to be popular among the troops. Speaking on “Fox News Sunday,” Vice President-elect Mike Pence, who now heads Trump’s transition team,” said Mattis had “a legendary military career.” Incoming White House Chief of Staff Reince Priebus said it was a “very real possibility” Mattis would get the job, telling the ABC program “This Week:” “I know that President-elect Trump loves leaders like General Mattis.” Pence said that Trump and Romney had a good meeting and “a warm and a substantive exchange.” “I can say that Governor Romney is under active and serious consideration to serve as secretary of state of the United States,” Pence said on the CBS program “Face the Nation.”    Romney, the unsuccessful 2012 Republican presidential nominee, was a leader of the Republican establishment movement that tried to block Trump from becoming the nominee this year. In March, Romney called Trump “a phony,” “a fraud” and “a con man.” A source close to Romney from his time as Massachusetts governor expressed concern he might be “frozen out” by officials whose thinking appears to be closer to Trump’s, such as Flynn, Mattis, White House counselor Steve Bannon, and members of Trump’s family. “How much influence and latitude he will have will be up to Trump, and they don’t appear to be on the same page about much,” the source said. Former Texas Governor Rick Perry, who made unsuccessful bids for the Republican presidential nomination in 2012 and 2016, will meet with Trump on Monday and is being considered for Cabinet posts including defense, energy and veterans affairs, Trump’s transition team said.     1\n",
            "NEW YORK (Reuters) - U.S. President-elect Donald Trump’s choice of experts to focus on new policies at the Federal Communications Commission signals a regime that will have a “lighter” touch on regulation and be more likely to favor large mergers in telecoms industries, analysts said. Economist Jeff Eisenach and former Sprint Corp (S.N) lobbyist Mark Jamison were named by Trump’s transition team to oversee hiring and policy for the FCC. They both oppose some recent telecom industry regulations resisted by telecom and cable heavyweights such as Comcast Corp (CMCSA.O) and AT&T Inc (T.N) and have voiced support for mega mergers in the past. The FCC is composed of five commissioners, including one designated as chairman, who are appointed by the president and confirmed by the Senate. Only three commissioners can be from the same political party and Trump’s pick for FCC chairman would tip the balance in favor of Republicans. The addition of Eisenach and Jamison to Trump’s “landing team” on Monday come as the Republican president-elect puts together a team to staff various government departments and agencies after he succeeds Democratic President Barack Obama on Jan. 20. The two appointments are harbingers of “a more typical Republican FCC that is lighter on regulation and more focused on competition,” said Roger Entner, an analyst at Recon Analytics. “The focus will be more on reducing regulation than creating new ones.” That would be in stark contrast to the Obama administration’s FCC that enacted or proposed a handful of new industry rules and disapproved some proposed combinations, including Comcast’s bid for Time Warner Cable and AT&T’s attempt to buy T-Mobile (TMUS.O).The FCC under Chairman Tom Wheeler, a Democrat, has had a rocky relationship with large telecom companies, some of which strongly opposed the agency’s 2015 net neutrality or open internet rules. The rules, which require internet service providers to treat all data equally and bar them from obstructing or slowing down consumer access to web content, were seen as a major victory for internet businesses like Alphabet Inc’s Google (GOOGL.O) that offer services but do not own internet networks. ‘PRO-BUSINESS POLICY’ Eisenach has supported mergers such as AT&T and T-Mobile as well as Sprint and T-Mobile that were dismissed by regulators during Obama’s administration, according to analysts. He is known in telecom circles for having a “pro-business” mindset, New Street Research analyst Spencer Kurn said.  “Whoever gets picked (as FCC chairman) is likely going to implement a similar pro-business policy,” Kurn said.  Eisenach, who was previously tapped by the Trump campaign as an adviser on technology and telecom policy, is currently a managing director at consulting firm NERA Economic Consulting’s communications, media and internet practice. He previously held advisory roles at the U.S. Federal Trade Commission and the White House Office of Management and Budget. In 2014, he testified in the U.S. Senate against net neutrality rules, arguing there was no need for new regulation as existing antitrust rules, while “not perfect,” offered safeguards against concerns about the business practices of internet service providers. Jamison is the director of the Public Utility Research Center at the University of Florida. Like Eisenach, he has strongly disagreed in his publications with Wheeler’s rules, including net neutrality and a proposal to open up the market for rented pay-TV set-top boxes. That measure was aimed at breaking the telecom and cable companies’ grip on the $20 billion market and bringing in players such as Google and Apple (AAPL.O) in an effort to lower prices for consumers. Some analysts said the appointments also raised questions over whether Trump would carry out his campaign pledge to kill AT&T’s $85.4 billion proposal to buy Time Warner (TWX.N). Matt Wood, policy director of the technology rights group Free Press, said that even as Trump opposes the deal, he picked the pro-business economist Eisenach, who was unlikely to want to block such a merger.                                                                                                                                                                                                                                                                                                                                                                                                                                                                                                                                                                                                                                                                                                                                                                                                                                                                                                                                                                                                                                                                                                                                                                                                                                                                                                                                                                                                                                                                                                                                                                                                                                                                                                                                                                                                                                                                                                                                                                                                                                                                                                                                                            1\n",
            "WASHINGTON (Reuters) - U.S. President-elect Donald Trump released a video on Monday laying out actions he will take on his first day in office on Jan. 20, including withdrawing the United States from a Trans-Pacific Partnership trade deal. Trump also said he would issue a rule cutting government regulations, direct the Labor Department to investigate abuses of visa programs, and cancel some restrictions on energy production, including shale oil and gas and coal.                                                                                                                                                                                                                                                                                                                                                                                                                                                                                                                                                                                                                                                                                                                                                                                                                                                                                                                                                                                                                                                                                                                                                                                                                                                                                                                                                                                                                                                                                                                                                                                                                                                                                                                                                                                                                                                                                                                                                                                                                                                                                                                                                                                                                                                                                                                                                                                                                                                                                                                                                                                                                                                                                                                                                                                                                                                                                                                                                                                                                                                                                                                                                                                                                                                                                                                                                                                                                                                                                                                                                                                                                                                                                                                                                                                                                                                                                                                                                                                                                                                                                                                                                                                                                                                                                                                                                                                                                                                                                                                                                                                                                                                                                                                                                                                                                                                                                                                                                                                                                                                                                                                                                                                                                                                                                                                                                                                                                                                                                                                                                                                                                                                                                                                                                                                                                                                                                                                                     1\n",
            "JAKARTA (Reuters) - Indonesia will buy 11 Sukhoi fighter jets worth $1.14 billion from Russia in exchange for cash and Indonesian commodities, two cabinet ministers said on Tuesday. The Southeast Asian country has pledged to ship up to $570 million worth of commodities in addition to cash to pay for the Suhkoi SU-35 fighter jets, which are expected to be delivered in stages starting in two years. Indonesian Trade Minister Enggartiasto Lukita said in a joint statement with Defence Minister Ryamizard Ryacudu that details of the type and volume of commodities were  still being negotiated . Previously he had said the exports could include palm oil, tea, and coffee. The deal is expected to be finalised soon between Indonesian state trading company PT Perusahaan Perdangangan Indonesia and Russian state conglomerate Rostec. Russia is currently facing a new round of U.S.-imposed trade sanctions. Meanwhile, Southeast Asia s largest economy is trying to promote its palm oil products amid threats of a cut in consumption by European Union countries. Indonesia is also trying to modernize its ageing air force after a string of military aviation accidents. Indonesia, which had a $411 million trade surplus with Russia in 2016, wants to expand bilateral cooperation in tourism, education, energy, technology and aviation among others.                                                                                                                                                                                                                                                                                                                                                                                                                                                                                                                                                                                                                                                                                                                                                                                                                                                                                                                                                                                                                                                                                                                                                                                                                                                                                                                                                                                                                                                                                                                                                                                                                                                                                                                                                                                                                                                                                                                                                                                                                                                                                                                                                                                                                                                                                                                                                                                                                                                                                                                                                                                                                                                                                                                                                                                                                                                                                                                                                                                                                                                                                                                                                                                                                                                                                                                                                                                                                                                                                                                                                                                                                                                                                                                                                                                                                                                                                                                                                                                                                                                                                                                                                                                                                                                                                                                                                                                                                                                                                                                                                                                                                                                                                                                                                                                                                                                                                                                                                                                                                              1\n",
            "Name: count, Length: 21192, dtype: int64\n",
            " \n",
            "subject\n",
            "politicsNews    11272\n",
            "worldnews       10145\n",
            "Name: count, dtype: int64\n",
            " \n",
            "date\n",
            "20-Dec-17    182\n",
            "6-Dec-17     166\n",
            "30-Nov-17    162\n",
            "9-Nov-17     158\n",
            "13-Oct-17    155\n",
            "            ... \n",
            "6-Aug-16       1\n",
            "21-Aug-16      1\n",
            "3-Sep-16       1\n",
            "11-Sep-16      1\n",
            "24-Jan-16      1\n",
            "Name: count, Length: 716, dtype: int64\n",
            " \n",
            "status\n",
            "Not Spam    21417\n",
            "Name: count, dtype: int64\n",
            " \n"
          ]
        }
      ]
    },
    {
      "cell_type": "markdown",
      "source": [
        "# **Numerical Features**"
      ],
      "metadata": {
        "id": "UExx3UV4ZzP5"
      }
    },
    {
      "cell_type": "code",
      "source": [
        "# Displaying the Numerical Features\n",
        "print(\"\\nNumerical Features:\\n\")\n",
        "print(numerical_columns)"
      ],
      "metadata": {
        "colab": {
          "base_uri": "https://localhost:8080/"
        },
        "id": "fL2bnv4HZ5Dx",
        "outputId": "67f50681-d916-44fa-fe2c-ca0cfda470ed"
      },
      "execution_count": null,
      "outputs": [
        {
          "output_type": "stream",
          "name": "stdout",
          "text": [
            "\n",
            "Numerical Features:\n",
            "\n",
            "Index([], dtype='object')\n"
          ]
        }
      ]
    },
    {
      "cell_type": "markdown",
      "source": [
        "**There is no visible numerical columns in this dataset.**"
      ],
      "metadata": {
        "id": "ifV8A99yZ9xq"
      }
    },
    {
      "cell_type": "markdown",
      "source": [
        "# **Visualization of the Target Variable**"
      ],
      "metadata": {
        "id": "SMIELgNyaB0R"
      }
    },
    {
      "cell_type": "code",
      "source": [
        "# Visualization of the Distribution of the Target Variable\n",
        "sns.countplot(data=data, x='status')\n",
        "plt.title('Target Variable Distribution')\n",
        "plt.show()"
      ],
      "metadata": {
        "colab": {
          "base_uri": "https://localhost:8080/",
          "height": 472
        },
        "id": "Knhg7SsgaHDS",
        "outputId": "3863a2ac-8146-499e-b63a-fdf0d41085dd"
      },
      "execution_count": null,
      "outputs": [
        {
          "output_type": "display_data",
          "data": {
            "text/plain": [
              "<Figure size 640x480 with 1 Axes>"
            ],
            "image/png": "[encoded data removed]"
          },
          "metadata": {}
        }
      ]
    },
    {
      "cell_type": "markdown",
      "source": [
        "# **Data Preprocessing**"
      ],
      "metadata": {
        "id": "-P4siEmWNG6A"
      }
    },
    {
      "cell_type": "markdown",
      "source": [
        "### **Cleaning the Dataset**"
      ],
      "metadata": {
        "id": "Ds88YPlrNeQL"
      }
    },
    {
      "cell_type": "code",
      "source": [
        "# Step 1: Removing Whitespaces From the Object Type Columns\n",
        "object_columns = data.select_dtypes(include=['object']).columns\n",
        "data[object_columns] = data[object_columns].apply(lambda x: x.str.strip())"
      ],
      "metadata": {
        "id": "3Gk0dgG5NQOU"
      },
      "execution_count": null,
      "outputs": []
    },
    {
      "cell_type": "code",
      "source": [
        "# Step 2: Removing Duplicate Values\n",
        "print(f\"Initial dataset shape: {data.shape}\")\n",
        "data = data.drop_duplicates()\n",
        "print(f\"Shape after removing duplicates: {data.shape}\")"
      ],
      "metadata": {
        "colab": {
          "base_uri": "https://localhost:8080/"
        },
        "id": "UBhjza7FNi93",
        "outputId": "9b2caee5-3608-4fbf-acbb-5e7f20d92361"
      },
      "execution_count": null,
      "outputs": [
        {
          "output_type": "stream",
          "name": "stdout",
          "text": [
            "Initial dataset shape: (21417, 5)\n",
            "Shape after removing duplicates: (21211, 5)\n"
          ]
        }
      ]
    },
    {
      "cell_type": "code",
      "source": [
        "# Dataset Information\n",
        "data.info()"
      ],
      "metadata": {
        "colab": {
          "base_uri": "https://localhost:8080/"
        },
        "id": "BOJczqxONo6O",
        "outputId": "fa5480cf-de1a-4ef3-ac3c-fa7b02ed35d2"
      },
      "execution_count": null,
      "outputs": [
        {
          "output_type": "stream",
          "name": "stdout",
          "text": [
            "<class 'pandas.core.frame.DataFrame'>\n",
            "Index: 21211 entries, 0 to 21416\n",
            "Data columns (total 5 columns):\n",
            " #   Column   Non-Null Count  Dtype \n",
            "---  ------   --------------  ----- \n",
            " 0   title    21211 non-null  object\n",
            " 1   text     21211 non-null  object\n",
            " 2   subject  21211 non-null  object\n",
            " 3   date     21211 non-null  object\n",
            " 4   status   21211 non-null  object\n",
            "dtypes: object(5)\n",
            "memory usage: 994.3+ KB\n"
          ]
        }
      ]
    },
    {
      "cell_type": "code",
      "source": [
        "# Step 3: Removing the 'Date' Column\n",
        "data = data.drop('date', axis=1)"
      ],
      "metadata": {
        "id": "jI7B73ePerZm"
      },
      "execution_count": null,
      "outputs": []
    },
    {
      "cell_type": "code",
      "source": [
        "# Dataset Information\n",
        "data.info()"
      ],
      "metadata": {
        "colab": {
          "base_uri": "https://localhost:8080/"
        },
        "id": "uC7HkzdbeyQt",
        "outputId": "bc04099c-9cc3-44df-84e1-0849406a0ede"
      },
      "execution_count": null,
      "outputs": [
        {
          "output_type": "stream",
          "name": "stdout",
          "text": [
            "<class 'pandas.core.frame.DataFrame'>\n",
            "Index: 21211 entries, 0 to 21416\n",
            "Data columns (total 4 columns):\n",
            " #   Column   Non-Null Count  Dtype \n",
            "---  ------   --------------  ----- \n",
            " 0   title    21211 non-null  object\n",
            " 1   text     21211 non-null  object\n",
            " 2   subject  21211 non-null  object\n",
            " 3   status   21211 non-null  object\n",
            "dtypes: object(4)\n",
            "memory usage: 828.6+ KB\n"
          ]
        }
      ]
    },
    {
      "cell_type": "code",
      "source": [
        "# Saving the Dataset\n",
        "data.to_csv('/content/drive/MyDrive/Multi-Type-Spam-Detection/Dataset/True_Cleaned.csv', index=False)"
      ],
      "metadata": {
        "id": "hcA0Bl7qtA9K"
      },
      "execution_count": null,
      "outputs": []
    },
    {
      "cell_type": "markdown",
      "source": [
        "# **Categorical Columns**"
      ],
      "metadata": {
        "id": "rayFD2FRdi-G"
      }
    },
    {
      "cell_type": "markdown",
      "source": [
        "\n",
        "# **Data Encoding**"
      ],
      "metadata": {
        "id": "bSsU0nxedqjY"
      }
    },
    {
      "cell_type": "markdown",
      "source": [
        "**Applying Label Encoding for the\n",
        "Categorical Features**"
      ],
      "metadata": {
        "id": "q3L6euBAdz1q"
      }
    },
    {
      "cell_type": "code",
      "source": [
        "# Step 5: Applying Label Encoding for the Categorical Columns\n",
        "\n",
        "# Listing the Categorical Features for Encoding\n",
        "categorical_features = data.select_dtypes(include=['object']).columns\n",
        "\n",
        "# Encoding the categorical Features\n",
        "from sklearn.preprocessing import LabelEncoder\n",
        "label_encoder = LabelEncoder()\n",
        "for feature in categorical_features:\n",
        "    data[feature] = label_encoder.fit_transform(data[feature])"
      ],
      "metadata": {
        "id": "VIu7Xp_ud6VV"
      },
      "execution_count": null,
      "outputs": []
    },
    {
      "cell_type": "code",
      "source": [
        "# Displaying dataset Information\n",
        "data.info()"
      ],
      "metadata": {
        "colab": {
          "base_uri": "https://localhost:8080/"
        },
        "id": "m9VMdW3hgL6g",
        "outputId": "9dfd2ce6-5521-441f-801b-814e81e5335b"
      },
      "execution_count": null,
      "outputs": [
        {
          "output_type": "stream",
          "name": "stdout",
          "text": [
            "<class 'pandas.core.frame.DataFrame'>\n",
            "Index: 21211 entries, 0 to 21416\n",
            "Data columns (total 4 columns):\n",
            " #   Column   Non-Null Count  Dtype\n",
            "---  ------   --------------  -----\n",
            " 0   title    21211 non-null  int64\n",
            " 1   text     21211 non-null  int64\n",
            " 2   subject  21211 non-null  int64\n",
            " 3   status   21211 non-null  int64\n",
            "dtypes: int64(4)\n",
            "memory usage: 828.6 KB\n"
          ]
        }
      ]
    }
  ]
}